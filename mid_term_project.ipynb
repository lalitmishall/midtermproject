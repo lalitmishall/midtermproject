{
 "cells": [
  {
   "cell_type": "markdown",
   "metadata": {},
   "source": [
    "## Step 1: Pull Data from yahoo finance"
   ]
  },
  {
   "cell_type": "code",
   "execution_count": 302,
   "metadata": {},
   "outputs": [
    {
     "data": {
      "text/html": [
       "<script>requirejs.config({paths: { 'plotly': ['https://cdn.plot.ly/plotly-latest.min']},});if(!window.Plotly) {{require(['plotly'],function(plotly) {window.Plotly=plotly;});}}</script>"
      ],
      "text/vnd.plotly.v1+html": [
       "<script>requirejs.config({paths: { 'plotly': ['https://cdn.plot.ly/plotly-latest.min']},});if(!window.Plotly) {{require(['plotly'],function(plotly) {window.Plotly=plotly;});}}</script>"
      ]
     },
     "metadata": {},
     "output_type": "display_data"
    }
   ],
   "source": [
    "import requests\n",
    "import pandas as pd\n",
    "from bs4 import BeautifulSoup\n",
    "\n",
    "import plotly.offline as p\n",
    "import plotly.graph_objs as go\n",
    "\n",
    "import matplotlib.pyplot as plt\n",
    "\n",
    "import json\n",
    "\n",
    "p.init_notebook_mode(connected=True)\n",
    "from IPython.display import Image"
   ]
  },
  {
   "cell_type": "code",
   "execution_count": 277,
   "metadata": {},
   "outputs": [],
   "source": [
    "url_key_statistics = \"https://finance.yahoo.com/quote/TSLA/key-statistics\"\n",
    "url_holders = \"https://finance.yahoo.com/quote/TSLA/holders\"\n",
    "url_sustainability = \"https://finance.yahoo.com/quote/TSLA/sustainability\"\n",
    "url_SnP_Wiki = \"https://en.wikipedia.org/wiki/List_of_S%26P_500_companies\"\n",
    "url_edgar_company_api = \"http://datafied.api.edgar-online.com/v2/companies?primarysymbols=msft&appkey=\"\n",
    "edgar_app_key = \"ubkhn2ar6ck4m7fhvhp9gqp2\"\n"
   ]
  },
  {
   "cell_type": "code",
   "execution_count": 66,
   "metadata": {},
   "outputs": [],
   "source": [
    "response = requests.get(url_sustainability)"
   ]
  },
  {
   "cell_type": "code",
   "execution_count": 291,
   "metadata": {},
   "outputs": [],
   "source": [
    "# response.text"
   ]
  },
  {
   "cell_type": "code",
   "execution_count": 288,
   "metadata": {},
   "outputs": [],
   "source": [
    "beautsoup_object = BeautifulSoup(response.text, 'html.parser')\n",
    "# Tells BeautifulSoup that we'd like to use the 'html' parser"
   ]
  },
  {
   "cell_type": "code",
   "execution_count": 290,
   "metadata": {},
   "outputs": [],
   "source": [
    "# print(beautsoup_object.prettify())"
   ]
  },
  {
   "cell_type": "code",
   "execution_count": 70,
   "metadata": {},
   "outputs": [],
   "source": [
    "# beautsoup_object.select(\".Fz(36px)\") -- alternate way but below is more accurate"
   ]
  },
  {
   "cell_type": "code",
   "execution_count": 71,
   "metadata": {},
   "outputs": [
    {
     "data": {
      "text/plain": [
       "'61'"
      ]
     },
     "execution_count": 71,
     "metadata": {},
     "output_type": "execute_result"
    }
   ],
   "source": [
    "beautsoup_object.find_all('div', class_ = \"Fz(36px)\", attrs={\"data-reactid\": \"20\"})[0].text"
   ]
  },
  {
   "cell_type": "code",
   "execution_count": null,
   "metadata": {},
   "outputs": [],
   "source": []
  },
  {
   "cell_type": "code",
   "execution_count": 124,
   "metadata": {},
   "outputs": [],
   "source": [
    "def getBeatifulResponse(url):\n",
    "    \"\"\"Function that gets the response using the URL\"\"\"\n",
    "    response = requests.get(url)\n",
    "    beautsoup_object = BeautifulSoup(response.text, 'html.parser')\n",
    "#     print(beautsoup_object.prettify())\n",
    "    return beautsoup_object"
   ]
  },
  {
   "cell_type": "code",
   "execution_count": 172,
   "metadata": {},
   "outputs": [],
   "source": [
    "def getSustainabilityScore(url):\n",
    "    \"\"\"Function that calls getBeatifulResponse and then extracts \n",
    "    Sustainability score from the response\"\"\"\n",
    "    score = None\n",
    "    try:\n",
    "        bsoupobj = getBeatifulResponse(url)\n",
    "        score = int(bsoupobj.find_all('div', class_ = \"Fz(36px)\", attrs={\"data-reactid\": \"20\"})[0].text)\n",
    "    finally:\n",
    "        return score\n",
    "    "
   ]
  },
  {
   "cell_type": "code",
   "execution_count": 173,
   "metadata": {},
   "outputs": [],
   "source": [
    "getSustainabilityScore(url_sustainability)"
   ]
  },
  {
   "cell_type": "code",
   "execution_count": 271,
   "metadata": {},
   "outputs": [],
   "source": [
    "def getHolders(url):\n",
    "    \"\"\"Function that calls getBeatifulResponse and then extracts \n",
    "    list of holders from the response\"\"\"\n",
    "    bsoupobj = getBeatifulResponse(url)\n",
    "    table = bsoupobj.find_all('td', {'class': 'Py(10px) Va(m) Fw(b) W(15%)'})\n",
    "    holders = []\n",
    "    try:\n",
    "        for row in table:\n",
    "            holder = row.text\n",
    "            holders.append(holder)\n",
    "#     except:\n",
    "#         holders = [None,None]\n",
    "    finally:\n",
    "        return holders"
   ]
  },
  {
   "cell_type": "code",
   "execution_count": 157,
   "metadata": {},
   "outputs": [
    {
     "data": {
      "text/plain": [
       "['25.19%', '59.53%', '79.57%', '1,005']"
      ]
     },
     "execution_count": 157,
     "metadata": {},
     "output_type": "execute_result"
    }
   ],
   "source": [
    "getHolders(url_holders)"
   ]
  },
  {
   "cell_type": "code",
   "execution_count": 153,
   "metadata": {},
   "outputs": [
    {
     "name": "stdout",
     "output_type": "stream",
     "text": [
      "<td class=\"Py(10px) Va(m) Fw(b) W(15%)\" data-reactid=\"26\">25.19%</td>\n",
      "<td class=\"Py(10px) Va(m) Fw(b) W(15%)\" data-reactid=\"30\">59.53%</td>\n",
      "<td class=\"Py(10px) Va(m) Fw(b) W(15%)\" data-reactid=\"34\">79.57%</td>\n",
      "<td class=\"Py(10px) Va(m) Fw(b) W(15%)\" data-reactid=\"38\">1,005</td>\n"
     ]
    },
    {
     "data": {
      "text/plain": [
       "['25.19%', '59.53%', '79.57%', '1,005']"
      ]
     },
     "execution_count": 153,
     "metadata": {},
     "output_type": "execute_result"
    }
   ],
   "source": [
    "bsoupobj = getBeatifulResponse(\"https://finance.yahoo.com/quote/TSLA/holders\")\n",
    "# print(bsoupobj.prettify())\n",
    "# bsoupobj.find_all(class_ = \"Py(10px)\")\n",
    "table = bsoupobj.find_all('td', {'class': 'Py(10px) Va(m) Fw(b) W(15%)'})\n",
    "holders = []\n",
    "for row in table:\n",
    "    print(row)\n",
    "    holder = row.text\n",
    "    holders.append(holder)\n",
    "holders"
   ]
  },
  {
   "cell_type": "code",
   "execution_count": 263,
   "metadata": {},
   "outputs": [],
   "source": [
    "def getSnPCompanies(url):\n",
    "    \"\"\"Function that scrapes the list of S&P 500 companies from Wikipedia\"\"\"\n",
    "    bsoupobj = getBeatifulResponse(url)\n",
    "    table = bsoupobj.find('table', {'class': 'wikitable sortable'})\n",
    "    companies = []\n",
    "    for row in table.findAll('tr')[1:]:\n",
    "        ticker = row.findAll('td')[0].text.replace('.','-')\n",
    "        company_name = row.findAll('td')[1].text\n",
    "        companies.append([ticker,company_name])\n",
    "    return companies"
   ]
  },
  {
   "cell_type": "code",
   "execution_count": 198,
   "metadata": {},
   "outputs": [],
   "source": [
    "# companies = getSnPCompanies(url_SnP_Wiki)"
   ]
  },
  {
   "cell_type": "code",
   "execution_count": 215,
   "metadata": {},
   "outputs": [],
   "source": [
    "# companies"
   ]
  },
  {
   "cell_type": "code",
   "execution_count": 189,
   "metadata": {},
   "outputs": [],
   "source": [
    "bsoupobj = getBeatifulResponse(\"https://en.wikipedia.org/wiki/List_of_S%26P_500_companies\")\n",
    "# print(bsoupobj.prettify())\n",
    "table = bsoupobj.find('table', {'class': 'wikitable sortable'})\n",
    "tickers = []\n",
    "company_names = []\n",
    "for row in table.findAll('tr')[1:]:\n",
    "    ticker = row.findAll('td')[0].text\n",
    "    company_name = row.findAll('td')[1].text\n",
    "#     print(ticker)\n",
    "    tickers.append(ticker)\n",
    "    company_names.append(company_name)"
   ]
  },
  {
   "cell_type": "code",
   "execution_count": 216,
   "metadata": {},
   "outputs": [],
   "source": [
    "# company_names"
   ]
  },
  {
   "cell_type": "code",
   "execution_count": 205,
   "metadata": {},
   "outputs": [],
   "source": [
    "# companies_info = []\n",
    "# for company in companies[:10]:\n",
    "#     url_key_statistics = \"https://finance.yahoo.com/quote/\" + company[0] + \"/key-statistics\"\n",
    "#     url_sustainability = \"https://finance.yahoo.com/quote/\" + company[0] + \"/sustainability\"\n",
    "#     url_holders = \"https://finance.yahoo.com/quote/\"        + company[0] + \"/holders\"\n",
    "#     sustainability = getSustainabilityScore(url_sustainability)\n",
    "#     holders = getHolders(url_holders)\n",
    "\n",
    "#     company_stats ={}\n",
    "#     company_stats['COMPANY'] = company[0]\n",
    "#     company_stats['SUSTAINABILITY_SCORE'] = sustainability\n",
    "#     company_stats['HOLDERS'] = holders\n",
    "    \n",
    "#     companies_info.append(company_stats)\n",
    "# #     print (company_stats)\n",
    "# #     print(companies)\n",
    "#     if len(companies_info) == 1:\n",
    "#         print('Scraping data', end=\"\")\n",
    "#     print('.', end=\"\")\n",
    "# companies_info"
   ]
  },
  {
   "cell_type": "code",
   "execution_count": 338,
   "metadata": {},
   "outputs": [
    {
     "name": "stdout",
     "output_type": "stream",
     "text": [
      "Services-Prepackaged Software\n"
     ]
    }
   ],
   "source": [
    "\"http://datafied.api.edgar-online.com/v2/companies?primarysymbols=msft&appkey=\" + edgar_app_key\n",
    "\n",
    "# bsoupobj = getBeatifulResponse(url_edgar_company_api+edgar_app_key)\n",
    "\n",
    "# type(bsoupobj.get('result'))\n",
    "# print(bsoupobj)\n",
    "# print(bsoupobj.json)\n",
    "\n",
    "response = requests.get(url_edgar_company_api+edgar_app_key)\n",
    "edgar_json = json.loads(response.text)\n",
    "\n",
    "# print(edgar_json)\n",
    "print(edgar_json['result']['rows'][0]['values'][-1]['value'])"
   ]
  },
  {
   "cell_type": "code",
   "execution_count": 286,
   "metadata": {},
   "outputs": [
    {
     "data": {
      "text/plain": [
       "'http://datafied.api.edgar-online.com/v2/corefinancials/ytd?primarysymbols=MSFT&appkey=ubkhn2ar6ck4m7fhvhp9gqp2'"
      ]
     },
     "execution_count": 286,
     "metadata": {},
     "output_type": "execute_result"
    }
   ],
   "source": [
    "\"http://datafied.api.edgar-online.com/v2/corefinancials/ytd?primarysymbols=MSFT&appkey=ubkhn2ar6ck4m7fhvhp9gqp2\""
   ]
  },
  {
   "cell_type": "code",
   "execution_count": null,
   "metadata": {},
   "outputs": [],
   "source": []
  },
  {
   "cell_type": "code",
   "execution_count": null,
   "metadata": {},
   "outputs": [],
   "source": []
  },
  {
   "cell_type": "markdown",
   "metadata": {},
   "source": [
    "## Step 2: Process data into data structures"
   ]
  },
  {
   "cell_type": "code",
   "execution_count": 264,
   "metadata": {},
   "outputs": [],
   "source": [
    "companies = getSnPCompanies(url_SnP_Wiki)"
   ]
  },
  {
   "cell_type": "code",
   "execution_count": 270,
   "metadata": {},
   "outputs": [
    {
     "name": "stdout",
     "output_type": "stream",
     "text": [
      "Scraping data..........."
     ]
    },
    {
     "data": {
      "text/plain": [
       "[{'TICKER': 'BBT',\n",
       "  'COMPANY_NAME': 'BB&T Corporation',\n",
       "  'SUSTAINABILITY_SCORE': 49,\n",
       "  'INSIDER_HOLDERS_PCT': 0.72,\n",
       "  'INSTITUTION_HOLDERS_PCT': 67.29,\n",
       "  'INSTITUTION_FLOAT_HOLDERS_PCT': 67.78,\n",
       "  'INSTITUTION_HOLDERS_NO': 1306},\n",
       " {'TICKER': 'BDX',\n",
       "  'COMPANY_NAME': 'Becton Dickinson',\n",
       "  'SUSTAINABILITY_SCORE': 65,\n",
       "  'INSIDER_HOLDERS_PCT': 0.26,\n",
       "  'INSTITUTION_HOLDERS_PCT': 89.72,\n",
       "  'INSTITUTION_FLOAT_HOLDERS_PCT': 89.95,\n",
       "  'INSTITUTION_HOLDERS_NO': 1638},\n",
       " {'TICKER': 'BRK-B',\n",
       "  'COMPANY_NAME': 'Berkshire Hathaway',\n",
       "  'SUSTAINABILITY_SCORE': 47,\n",
       "  'INSIDER_HOLDERS_PCT': None,\n",
       "  'INSTITUTION_HOLDERS_PCT': None,\n",
       "  'INSTITUTION_FLOAT_HOLDERS_PCT': None,\n",
       "  'INSTITUTION_HOLDERS_NO': None},\n",
       " {'TICKER': 'BBY',\n",
       "  'COMPANY_NAME': 'Best Buy Co. Inc.',\n",
       "  'SUSTAINABILITY_SCORE': 67,\n",
       "  'INSIDER_HOLDERS_PCT': 14.18,\n",
       "  'INSTITUTION_HOLDERS_PCT': 85.15,\n",
       "  'INSTITUTION_FLOAT_HOLDERS_PCT': 99.22,\n",
       "  'INSTITUTION_HOLDERS_NO': 909},\n",
       " {'TICKER': 'BIIB',\n",
       "  'COMPANY_NAME': 'Biogen Inc.',\n",
       "  'SUSTAINABILITY_SCORE': 69,\n",
       "  'INSIDER_HOLDERS_PCT': 0.39,\n",
       "  'INSTITUTION_HOLDERS_PCT': 91.17,\n",
       "  'INSTITUTION_FLOAT_HOLDERS_PCT': 91.54,\n",
       "  'INSTITUTION_HOLDERS_NO': 1544},\n",
       " {'TICKER': 'BLK',\n",
       "  'COMPANY_NAME': 'BlackRock',\n",
       "  'SUSTAINABILITY_SCORE': 59,\n",
       "  'INSIDER_HOLDERS_PCT': 3.74,\n",
       "  'INSTITUTION_HOLDERS_PCT': 85.08,\n",
       "  'INSTITUTION_FLOAT_HOLDERS_PCT': 88.39,\n",
       "  'INSTITUTION_HOLDERS_NO': 1598},\n",
       " {'TICKER': 'HRB',\n",
       "  'COMPANY_NAME': 'Block H&R',\n",
       "  'SUSTAINABILITY_SCORE': None,\n",
       "  'INSIDER_HOLDERS_PCT': 0.43,\n",
       "  'INSTITUTION_HOLDERS_PCT': 101.51,\n",
       "  'INSTITUTION_FLOAT_HOLDERS_PCT': 101.95,\n",
       "  'INSTITUTION_HOLDERS_NO': 682},\n",
       " {'TICKER': 'BA',\n",
       "  'COMPANY_NAME': 'Boeing Company',\n",
       "  'SUSTAINABILITY_SCORE': 52,\n",
       "  'INSIDER_HOLDERS_PCT': 0.1,\n",
       "  'INSTITUTION_HOLDERS_PCT': 70.21,\n",
       "  'INSTITUTION_FLOAT_HOLDERS_PCT': 70.28,\n",
       "  'INSTITUTION_HOLDERS_NO': 2351},\n",
       " {'TICKER': 'BKNG',\n",
       "  'COMPANY_NAME': 'Booking Holdings Inc',\n",
       "  'SUSTAINABILITY_SCORE': 46,\n",
       "  'INSIDER_HOLDERS_PCT': 0.29,\n",
       "  'INSTITUTION_HOLDERS_PCT': 94.87,\n",
       "  'INSTITUTION_FLOAT_HOLDERS_PCT': 95.14,\n",
       "  'INSTITUTION_HOLDERS_NO': 1606},\n",
       " {'TICKER': 'BWA',\n",
       "  'COMPANY_NAME': 'BorgWarner',\n",
       "  'SUSTAINABILITY_SCORE': 66,\n",
       "  'INSIDER_HOLDERS_PCT': 0.58,\n",
       "  'INSTITUTION_HOLDERS_PCT': 95.63,\n",
       "  'INSTITUTION_FLOAT_HOLDERS_PCT': 96.19,\n",
       "  'INSTITUTION_HOLDERS_NO': 811},\n",
       " {'TICKER': 'BXP',\n",
       "  'COMPANY_NAME': 'Boston Properties',\n",
       "  'SUSTAINABILITY_SCORE': 65,\n",
       "  'INSIDER_HOLDERS_PCT': 0.6,\n",
       "  'INSTITUTION_HOLDERS_PCT': 100.73,\n",
       "  'INSTITUTION_FLOAT_HOLDERS_PCT': 101.34,\n",
       "  'INSTITUTION_HOLDERS_NO': 709}]"
      ]
     },
     "execution_count": 270,
     "metadata": {},
     "output_type": "execute_result"
    }
   ],
   "source": [
    "companies_info = []\n",
    "for company in companies[69:75]:\n",
    "    url_key_statistics = \"https://finance.yahoo.com/quote/\" + company[0] + \"/key-statistics\"\n",
    "    url_sustainability = \"https://finance.yahoo.com/quote/\" + company[0] + \"/sustainability\"\n",
    "    url_holders = \"https://finance.yahoo.com/quote/\"        + company[0] + \"/holders\"\n",
    "    sustainability = getSustainabilityScore(url_sustainability)\n",
    "    holders = getHolders(url_holders)\n",
    "\n",
    "    company_stats ={}\n",
    "    company_stats['TICKER'] = company[0]\n",
    "    company_stats['COMPANY_NAME'] = company[1]\n",
    "    company_stats['SUSTAINABILITY_SCORE'] = sustainability\n",
    "    company_stats['INSIDER_HOLDERS_PCT'] = float(holders[0].replace('%','')) if holders[0] != 'N/A' else None\n",
    "    company_stats['INSTITUTION_HOLDERS_PCT'] = float(holders[1].replace('%','')) if holders[1] != 'N/A' else None\n",
    "    company_stats['INSTITUTION_FLOAT_HOLDERS_PCT'] = float(holders[2].replace('%','')) if holders[2] != 'N/A' else None\n",
    "    company_stats['INSTITUTION_HOLDERS_NO'] =  int(holders[3].replace(',','')) if holders[3] != 'N/A' else None\n",
    "    \n",
    "    companies_info.append(company_stats)\n",
    "#     print (company_stats)\n",
    "#     print(companies)\n",
    "    if len(companies_info) == 1:\n",
    "        print('Scraping data', end=\"\")\n",
    "    print('.', end=\"\")\n",
    "companies_info"
   ]
  },
  {
   "cell_type": "markdown",
   "metadata": {},
   "source": [
    "## Step 3: Visualize\n"
   ]
  },
  {
   "cell_type": "code",
   "execution_count": 273,
   "metadata": {},
   "outputs": [
    {
     "data": {
      "text/plain": [
       "[<matplotlib.lines.Line2D at 0x10ef79080>]"
      ]
     },
     "execution_count": 273,
     "metadata": {},
     "output_type": "execute_result"
    },
    {
     "data": {
      "image/png": "[encoded data removed]",
      "text/plain": [
       "<Figure size 432x288 with 1 Axes>"
      ]
     },
     "metadata": {},
     "output_type": "display_data"
    }
   ],
   "source": [
    "# companies_info.get('SUSTAINABILITY_SCORE')\n",
    "sustainability_scores = [company.get('SUSTAINABILITY_SCORE') for company in companies_info]\n",
    "institution_holders = [company.get('INSTITUTION_HOLDERS_NO') for company in companies_info]\n",
    "\n",
    "# len(sustainability_scores)\n",
    "# company[-1]\n",
    "\n",
    "plt.plot(sustainability_scores, institution_holders, 'ro')"
   ]
  },
  {
   "cell_type": "code",
   "execution_count": 275,
   "metadata": {},
   "outputs": [
    {
     "name": "stdout",
     "output_type": "stream",
     "text": [
      "[0.72, 0.26, None, 14.18, 0.39, 3.74, 0.43, 0.1, 0.29, 0.58, 0.6]\n"
     ]
    },
    {
     "data": {
      "text/plain": [
       "[<matplotlib.lines.Line2D at 0x11188de80>]"
      ]
     },
     "execution_count": 275,
     "metadata": {},
     "output_type": "execute_result"
    },
    {
     "data": {
      "image/png": "[encoded data removed]",
      "text/plain": [
       "<Figure size 432x288 with 1 Axes>"
      ]
     },
     "metadata": {},
     "output_type": "display_data"
    }
   ],
   "source": [
    "sustainability_scores = [company.get('SUSTAINABILITY_SCORE') for company in companies_info]\n",
    "insider_holders = [company.get('INSIDER_HOLDERS_PCT') for company in companies_info]\n",
    "\n",
    "print(insider_holders)\n",
    "# len(sustainability_scores)\n",
    "# company[-1]\n",
    "\n",
    "plt.plot(sustainability_scores, insider_holders, 'ro')"
   ]
  },
  {
   "cell_type": "code",
   "execution_count": null,
   "metadata": {},
   "outputs": [],
   "source": []
  },
  {
   "cell_type": "code",
   "execution_count": null,
   "metadata": {},
   "outputs": [],
   "source": []
  },
  {
   "cell_type": "code",
   "execution_count": null,
   "metadata": {},
   "outputs": [],
   "source": []
  }
 ],
 "metadata": {
  "kernelspec": {
   "display_name": "Python 3",
   "language": "python",
   "name": "python3"
  },
  "language_info": {
   "codemirror_mode": {
    "name": "ipython",
    "version": 3
   },
   "file_extension": ".py",
   "mimetype": "text/x-python",
   "name": "python",
   "nbconvert_exporter": "python",
   "pygments_lexer": "ipython3",
   "version": "3.6.5"
  }
 },
 "nbformat": 4,
 "nbformat_minor": 2
}
