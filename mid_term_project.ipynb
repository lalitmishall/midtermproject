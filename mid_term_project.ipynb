{
 "cells": [
  {
   "cell_type": "markdown",
   "metadata": {},
   "source": [
    "## Step 1: Pull Data from yahoo finance"
   ]
  },
  {
   "cell_type": "code",
   "execution_count": 63,
   "metadata": {},
   "outputs": [
    {
     "data": {
      "text/html": [
       "<script>requirejs.config({paths: { 'plotly': ['https://cdn.plot.ly/plotly-latest.min']},});if(!window.Plotly) {{require(['plotly'],function(plotly) {window.Plotly=plotly;});}}</script>"
      ],
      "text/vnd.plotly.v1+html": [
       "<script>requirejs.config({paths: { 'plotly': ['https://cdn.plot.ly/plotly-latest.min']},});if(!window.Plotly) {{require(['plotly'],function(plotly) {window.Plotly=plotly;});}}</script>"
      ]
     },
     "metadata": {},
     "output_type": "display_data"
    }
   ],
   "source": [
    "import requests\n",
    "import pandas as pd\n",
    "from bs4 import BeautifulSoup\n",
    "\n",
    "import plotly.offline as py\n",
    "import plotly.graph_objs as go\n",
    "\n",
    "import matplotlib.pyplot as plt\n",
    "\n",
    "import json\n",
    "\n",
    "p.init_notebook_mode(connected=True)\n",
    "from IPython.display import Image"
   ]
  },
  {
   "cell_type": "code",
   "execution_count": 35,
   "metadata": {},
   "outputs": [],
   "source": [
    "url_key_statistics = \"https://finance.yahoo.com/quote/TSLA/key-statistics\"\n",
    "url_holders = \"https://finance.yahoo.com/quote/TSLA/holders\"\n",
    "url_sustainability = \"https://finance.yahoo.com/quote/TSLA/sustainability\"\n",
    "url_SnP_Wiki = \"https://en.wikipedia.org/wiki/List_of_S%26P_500_companies\"\n",
    "url_SIC_Range_Wiki = \"https://en.wikipedia.org/wiki/Standard_Industrial_Classification\"\n",
    "url_edgar_company_api = \"http://datafied.api.edgar-online.com/v2/companies?primarysymbols=\"\n",
    "edgar_app_key = \"ubkhn2ar6ck4m7fhvhp9gqp2\"\n"
   ]
  },
  {
   "cell_type": "code",
   "execution_count": 66,
   "metadata": {},
   "outputs": [],
   "source": [
    "response = requests.get(url_sustainability)"
   ]
  },
  {
   "cell_type": "code",
   "execution_count": 291,
   "metadata": {},
   "outputs": [],
   "source": [
    "# response.text"
   ]
  },
  {
   "cell_type": "code",
   "execution_count": 288,
   "metadata": {},
   "outputs": [],
   "source": [
    "beautsoup_object = BeautifulSoup(response.text, 'html.parser')\n",
    "# Tells BeautifulSoup that we'd like to use the 'html' parser"
   ]
  },
  {
   "cell_type": "code",
   "execution_count": 290,
   "metadata": {},
   "outputs": [],
   "source": [
    "# print(beautsoup_object.prettify())"
   ]
  },
  {
   "cell_type": "code",
   "execution_count": 70,
   "metadata": {},
   "outputs": [],
   "source": [
    "# beautsoup_object.select(\".Fz(36px)\") -- alternate way but below is more accurate"
   ]
  },
  {
   "cell_type": "code",
   "execution_count": 71,
   "metadata": {},
   "outputs": [
    {
     "data": {
      "text/plain": [
       "'61'"
      ]
     },
     "execution_count": 71,
     "metadata": {},
     "output_type": "execute_result"
    }
   ],
   "source": [
    "beautsoup_object.find_all('div', class_ = \"Fz(36px)\", attrs={\"data-reactid\": \"20\"})[0].text"
   ]
  },
  {
   "cell_type": "code",
   "execution_count": null,
   "metadata": {},
   "outputs": [],
   "source": []
  },
  {
   "cell_type": "code",
   "execution_count": 3,
   "metadata": {},
   "outputs": [],
   "source": [
    "def getBeatifulResponse(url):\n",
    "    \"\"\"Function that gets the response using the URL\"\"\"\n",
    "    response = requests.get(url)\n",
    "    beautsoup_object = BeautifulSoup(response.text, 'html.parser')\n",
    "#     print(beautsoup_object.prettify())\n",
    "    return beautsoup_object"
   ]
  },
  {
   "cell_type": "code",
   "execution_count": 79,
   "metadata": {},
   "outputs": [],
   "source": [
    "def getSustainabilityScore(url):\n",
    "    \"\"\"Function that calls getBeatifulResponse and then extracts \n",
    "    Sustainability score from the response\"\"\"\n",
    "    score = 0\n",
    "    try:\n",
    "        bsoupobj = getBeatifulResponse(url)\n",
    "        score = int(bsoupobj.find_all('div', class_ = \"Fz(36px)\", attrs={\"data-reactid\": \"20\"})[0].text)\n",
    "    finally:\n",
    "        return score\n",
    "    "
   ]
  },
  {
   "cell_type": "code",
   "execution_count": 173,
   "metadata": {},
   "outputs": [],
   "source": [
    "getSustainabilityScore(url_sustainability)"
   ]
  },
  {
   "cell_type": "code",
   "execution_count": 5,
   "metadata": {},
   "outputs": [],
   "source": [
    "def getHolders(url):\n",
    "    \"\"\"Function that calls getBeatifulResponse and then extracts \n",
    "    list of holders from the response\"\"\"\n",
    "    bsoupobj = getBeatifulResponse(url)\n",
    "    table = bsoupobj.find_all('td', {'class': 'Py(10px) Va(m) Fw(b) W(15%)'})\n",
    "    holders = []\n",
    "    try:\n",
    "        for row in table:\n",
    "            holder = row.text\n",
    "            holders.append(holder)\n",
    "#     except:\n",
    "#         holders = [None,None]\n",
    "    finally:\n",
    "        return holders"
   ]
  },
  {
   "cell_type": "code",
   "execution_count": 157,
   "metadata": {},
   "outputs": [
    {
     "data": {
      "text/plain": [
       "['25.19%', '59.53%', '79.57%', '1,005']"
      ]
     },
     "execution_count": 157,
     "metadata": {},
     "output_type": "execute_result"
    }
   ],
   "source": [
    "getHolders(url_holders)"
   ]
  },
  {
   "cell_type": "code",
   "execution_count": 153,
   "metadata": {},
   "outputs": [
    {
     "name": "stdout",
     "output_type": "stream",
     "text": [
      "<td class=\"Py(10px) Va(m) Fw(b) W(15%)\" data-reactid=\"26\">25.19%</td>\n",
      "<td class=\"Py(10px) Va(m) Fw(b) W(15%)\" data-reactid=\"30\">59.53%</td>\n",
      "<td class=\"Py(10px) Va(m) Fw(b) W(15%)\" data-reactid=\"34\">79.57%</td>\n",
      "<td class=\"Py(10px) Va(m) Fw(b) W(15%)\" data-reactid=\"38\">1,005</td>\n"
     ]
    },
    {
     "data": {
      "text/plain": [
       "['25.19%', '59.53%', '79.57%', '1,005']"
      ]
     },
     "execution_count": 153,
     "metadata": {},
     "output_type": "execute_result"
    }
   ],
   "source": [
    "bsoupobj = getBeatifulResponse(\"https://finance.yahoo.com/quote/TSLA/holders\")\n",
    "# print(bsoupobj.prettify())\n",
    "# bsoupobj.find_all(class_ = \"Py(10px)\")\n",
    "table = bsoupobj.find_all('td', {'class': 'Py(10px) Va(m) Fw(b) W(15%)'})\n",
    "holders = []\n",
    "for row in table:\n",
    "    print(row)\n",
    "    holder = row.text\n",
    "    holders.append(holder)\n",
    "holders"
   ]
  },
  {
   "cell_type": "code",
   "execution_count": 6,
   "metadata": {},
   "outputs": [],
   "source": [
    "def getSnPCompanies(url):\n",
    "    \"\"\"Function that scrapes the list of S&P 500 companies from Wikipedia\"\"\"\n",
    "    bsoupobj = getBeatifulResponse(url)\n",
    "    table = bsoupobj.find('table', {'class': 'wikitable sortable'})\n",
    "    companies = []\n",
    "    for row in table.findAll('tr')[1:]:\n",
    "        ticker = row.findAll('td')[0].text.replace('.','-')\n",
    "        company_name = row.findAll('td')[1].text\n",
    "        companies.append([ticker,company_name])\n",
    "    return companies"
   ]
  },
  {
   "cell_type": "code",
   "execution_count": 34,
   "metadata": {},
   "outputs": [],
   "source": [
    "def getSICRangeLookup(url):\n",
    "    \"\"\"Function that scrapes the range of sic codes and corresponding \n",
    "    divisions from Wikipedia to create lookups\"\"\"\n",
    "    bsoupobj = getBeatifulResponse(url)\n",
    "    table = bsoupobj.find('table', {'class': 'wikitable sortable'})\n",
    "    range_sic_codes = []\n",
    "                                    \n",
    "    for row in table.findAll('tr')[1:]:\n",
    "        range_sic_code = row.findAll('td')[0].text.replace('\\n','')\n",
    "        division = row.findAll('td')[1].text.replace('\\n','')\n",
    "        range_min = int(range_sic_code[0:4])\n",
    "        range_max = int(range_sic_code[5:9])\n",
    "        range_sic_codes.append([division, range_min, range_max])\n",
    "    \n",
    "    return(range_sic_codes)"
   ]
  },
  {
   "cell_type": "code",
   "execution_count": 38,
   "metadata": {},
   "outputs": [],
   "source": [
    "r = getSICRangeLookup(url_SIC_Range_Wiki)\n"
   ]
  },
  {
   "cell_type": "code",
   "execution_count": 198,
   "metadata": {},
   "outputs": [],
   "source": [
    "# companies = getSnPCompanies(url_SnP_Wiki)"
   ]
  },
  {
   "cell_type": "code",
   "execution_count": 215,
   "metadata": {},
   "outputs": [],
   "source": [
    "# companies"
   ]
  },
  {
   "cell_type": "code",
   "execution_count": 18,
   "metadata": {},
   "outputs": [],
   "source": [
    "bsoupobj = getBeatifulResponse(\"https://en.wikipedia.org/wiki/List_of_S%26P_500_companies\")\n",
    "# print(bsoupobj.prettify())\n",
    "table = bsoupobj.find('table', {'class': 'wikitable sortable'})\n",
    "tickers = []\n",
    "company_names = []\n",
    "for row in table.findAll('tr')[1:]:\n",
    "    ticker = row.findAll('td')[0].text\n",
    "    company_name = row.findAll('td')[1].text\n",
    "#     print(ticker)\n",
    "    tickers.append(ticker)\n",
    "    company_names.append(company_name)\n"
   ]
  },
  {
   "cell_type": "code",
   "execution_count": 32,
   "metadata": {},
   "outputs": [
    {
     "name": "stdout",
     "output_type": "stream",
     "text": [
      "[['Agriculture, Forestry and Fishing', 100, 999], ['Mining', 1000, 1499], ['Construction', 1500, 1799], ['not used', 1800, 1999], ['Manufacturing', 2000, 3999], ['Transportation, Communications, Electric, Gas and Sanitary service', 4000, 4999], ['Wholesale Trade', 5000, 5199], ['Retail Trade', 5200, 5999], ['Finance, Insurance and Real Estate', 6000, 6799], ['Services', 7000, 8999], ['Public Administration', 9100, 9729], ['Nonclassifiable', 9900, 9999]]\n"
     ]
    }
   ],
   "source": [
    "bsoupobj = getBeatifulResponse(\"https://en.wikipedia.org/wiki/Standard_Industrial_Classification\")\n",
    "table = bsoupobj.find('table', {'class': 'wikitable sortable'})\n",
    "range_sic_codes = []\n",
    "for row in table.findAll('tr')[1:]:\n",
    "    range_sic_code = row.findAll('td')[0].text.replace('\\n','')\n",
    "    division = row.findAll('td')[1].text.replace('\\n','')\n",
    "    range_min = int(range_sic_code[0:4])\n",
    "    range_max = int(range_sic_code[5:9])\n",
    "    range_sic_codes.append([division, range_min, range_max])\n",
    "    \n",
    "print(range_sic_codes)"
   ]
  },
  {
   "cell_type": "code",
   "execution_count": 216,
   "metadata": {},
   "outputs": [],
   "source": [
    "# company_names"
   ]
  },
  {
   "cell_type": "code",
   "execution_count": 205,
   "metadata": {},
   "outputs": [],
   "source": [
    "# companies_info = []\n",
    "# for company in companies[:10]:\n",
    "#     url_key_statistics = \"https://finance.yahoo.com/quote/\" + company[0] + \"/key-statistics\"\n",
    "#     url_sustainability = \"https://finance.yahoo.com/quote/\" + company[0] + \"/sustainability\"\n",
    "#     url_holders = \"https://finance.yahoo.com/quote/\"        + company[0] + \"/holders\"\n",
    "#     sustainability = getSustainabilityScore(url_sustainability)\n",
    "#     holders = getHolders(url_holders)\n",
    "\n",
    "#     company_stats ={}\n",
    "#     company_stats['COMPANY'] = company[0]\n",
    "#     company_stats['SUSTAINABILITY_SCORE'] = sustainability\n",
    "#     company_stats['HOLDERS'] = holders\n",
    "    \n",
    "#     companies_info.append(company_stats)\n",
    "# #     print (company_stats)\n",
    "# #     print(companies)\n",
    "#     if len(companies_info) == 1:\n",
    "#         print('Scraping data', end=\"\")\n",
    "#     print('.', end=\"\")\n",
    "# companies_info"
   ]
  },
  {
   "cell_type": "code",
   "execution_count": 345,
   "metadata": {},
   "outputs": [
    {
     "name": "stdout",
     "output_type": "stream",
     "text": [
      "7372\n",
      "Services-Prepackaged Software\n"
     ]
    }
   ],
   "source": [
    "\"http://datafied.api.edgar-online.com/v2/companies?primarysymbols=msft&appkey=\" + edgar_app_key\n",
    "\n",
    "# bsoupobj = getBeatifulResponse(url_edgar_company_api+edgar_app_key)\n",
    "\n",
    "# type(bsoupobj.get('result'))\n",
    "# print(bsoupobj)\n",
    "# print(bsoupobj.json)\n",
    "\n",
    "response = requests.get(url_edgar_company_api+\"msft&appkey=\"+edgar_app_key)\n",
    "edgar_json = json.loads(response.text)\n",
    "\n",
    "# print(edgar_json)\n",
    "print(edgar_json['result']['rows'][0]['values'][-2]['value'])\n",
    "print(edgar_json['result']['rows'][0]['values'][-1]['value'])"
   ]
  },
  {
   "cell_type": "code",
   "execution_count": 7,
   "metadata": {},
   "outputs": [],
   "source": [
    "def getIndustry(company_ticker):\n",
    "    \"\"\"Function that scrapes the Industry for the company using Edgar API\"\"\"\n",
    "\n",
    "    industry = {}\n",
    "    try:   \n",
    "        response = requests.get(url_edgar_company_api + company_ticker + \"&appkey=\" + edgar_app_key)\n",
    "        edgar_json = json.loads(response.text)\n",
    "\n",
    "        industry['SIC_CODE'] = edgar_json['result']['rows'][0]['values'][-2]['value']\n",
    "        industry['SIC_DESC'] = edgar_json['result']['rows'][0]['values'][-1]['value']\n",
    "    finally:\n",
    "        return industry"
   ]
  },
  {
   "cell_type": "code",
   "execution_count": 286,
   "metadata": {},
   "outputs": [
    {
     "data": {
      "text/plain": [
       "'http://datafied.api.edgar-online.com/v2/corefinancials/ytd?primarysymbols=MSFT&appkey=ubkhn2ar6ck4m7fhvhp9gqp2'"
      ]
     },
     "execution_count": 286,
     "metadata": {},
     "output_type": "execute_result"
    }
   ],
   "source": [
    "\"http://datafied.api.edgar-online.com/v2/corefinancials/ytd?primarysymbols=MSFT&appkey=ubkhn2ar6ck4m7fhvhp9gqp2\""
   ]
  },
  {
   "cell_type": "code",
   "execution_count": 342,
   "metadata": {},
   "outputs": [
    {
     "data": {
      "text/plain": [
       "'7372'"
      ]
     },
     "execution_count": 342,
     "metadata": {},
     "output_type": "execute_result"
    }
   ],
   "source": [
    "import json\n",
    "edgar_json_new = pd.read_json(url_edgar_company_api+edgar_app_key)\n",
    "edgar_json_new['result']['rows'][0]['values'][-2]['value']"
   ]
  },
  {
   "cell_type": "code",
   "execution_count": 48,
   "metadata": {},
   "outputs": [],
   "source": [
    "def getIndustryDivision(sic_code):\n",
    "    \"\"\"Functions looks up the SIC code to provide correpsonding Division\"\"\"\n",
    "#     print(SIC_Range)\n",
    "    for division in SIC_Range:\n",
    "        if sic_code >= division[1] and sic_code <= division[2]:\n",
    "            return division[0]\n",
    "            "
   ]
  },
  {
   "cell_type": "code",
   "execution_count": 46,
   "metadata": {},
   "outputs": [
    {
     "name": "stdout",
     "output_type": "stream",
     "text": [
      "[['Agriculture, Forestry and Fishing', 100, 999], ['Mining', 1000, 1499], ['Construction', 1500, 1799], ['not used', 1800, 1999], ['Manufacturing', 2000, 3999], ['Transportation, Communications, Electric, Gas and Sanitary service', 4000, 4999], ['Wholesale Trade', 5000, 5199], ['Retail Trade', 5200, 5999], ['Finance, Insurance and Real Estate', 6000, 6799], ['Services', 7000, 8999], ['Public Administration', 9100, 9729], ['Nonclassifiable', 9900, 9999]]\n"
     ]
    },
    {
     "data": {
      "text/plain": [
       "'Finance, Insurance and Real Estate'"
      ]
     },
     "execution_count": 46,
     "metadata": {},
     "output_type": "execute_result"
    }
   ],
   "source": [
    "getIndustryDivision(6021)"
   ]
  },
  {
   "cell_type": "markdown",
   "metadata": {},
   "source": [
    "## Step 2: Process data into data structures"
   ]
  },
  {
   "cell_type": "code",
   "execution_count": 8,
   "metadata": {},
   "outputs": [],
   "source": [
    "companies = getSnPCompanies(url_SnP_Wiki)"
   ]
  },
  {
   "cell_type": "code",
   "execution_count": 103,
   "metadata": {},
   "outputs": [
    {
     "name": "stdout",
     "output_type": "stream",
     "text": [
      "Scraping data........................."
     ]
    },
    {
     "data": {
      "text/plain": [
       "[{'TICKER': 'MMM',\n",
       "  'COMPANY_NAME': '3M Company',\n",
       "  'SUSTAINABILITY_SCORE': 66,\n",
       "  'INSIDER_HOLDERS_PCT': 7.74,\n",
       "  'INSTITUTION_HOLDERS_PCT': 10.42,\n",
       "  'INSTITUTION_FLOAT_HOLDERS_PCT': 11.29,\n",
       "  'INSTITUTION_HOLDERS_NO': 2,\n",
       "  'SIC_CODE': '3841',\n",
       "  'SIC_DESC': 'Surgical and Medical Instruments and Apparatus',\n",
       "  'SIC_DIVISION': 'Manufacturing'},\n",
       " {'TICKER': 'ABT',\n",
       "  'COMPANY_NAME': 'Abbott Laboratories',\n",
       "  'SUSTAINABILITY_SCORE': 64,\n",
       "  'INSIDER_HOLDERS_PCT': 0.72,\n",
       "  'INSTITUTION_HOLDERS_PCT': 74.53,\n",
       "  'INSTITUTION_FLOAT_HOLDERS_PCT': 75.07,\n",
       "  'INSTITUTION_HOLDERS_NO': 2194,\n",
       "  'SIC_CODE': '2834',\n",
       "  'SIC_DESC': 'Pharmaceutical Preparations',\n",
       "  'SIC_DIVISION': 'Manufacturing'},\n",
       " {'TICKER': 'ABBV',\n",
       "  'COMPANY_NAME': 'AbbVie Inc.',\n",
       "  'SUSTAINABILITY_SCORE': 66,\n",
       "  'INSIDER_HOLDERS_PCT': 0.09,\n",
       "  'INSTITUTION_HOLDERS_PCT': 71.54,\n",
       "  'INSTITUTION_FLOAT_HOLDERS_PCT': 71.6,\n",
       "  'INSTITUTION_HOLDERS_NO': 2458,\n",
       "  'SIC_CODE': '2834',\n",
       "  'SIC_DESC': 'Pharmaceutical Preparations',\n",
       "  'SIC_DIVISION': 'Manufacturing'},\n",
       " {'TICKER': 'ACN',\n",
       "  'COMPANY_NAME': 'Accenture plc',\n",
       "  'SUSTAINABILITY_SCORE': 75,\n",
       "  'INSIDER_HOLDERS_PCT': 0.21,\n",
       "  'INSTITUTION_HOLDERS_PCT': 73.71,\n",
       "  'INSTITUTION_FLOAT_HOLDERS_PCT': 73.86,\n",
       "  'INSTITUTION_HOLDERS_NO': 1777,\n",
       "  'SIC_CODE': '7389',\n",
       "  'SIC_DESC': 'Services-Business Services, Not Elsewhere Classified',\n",
       "  'SIC_DIVISION': 'Services'},\n",
       " {'TICKER': 'ATVI',\n",
       "  'COMPANY_NAME': 'Activision Blizzard',\n",
       "  'SUSTAINABILITY_SCORE': 47,\n",
       "  'INSIDER_HOLDERS_PCT': 6.0,\n",
       "  'INSTITUTION_HOLDERS_PCT': 89.79,\n",
       "  'INSTITUTION_FLOAT_HOLDERS_PCT': 95.52,\n",
       "  'INSTITUTION_HOLDERS_NO': 1215,\n",
       "  'SIC_CODE': '7372',\n",
       "  'SIC_DESC': 'Services-Prepackaged Software',\n",
       "  'SIC_DIVISION': 'Services'},\n",
       " {'TICKER': 'ADBE',\n",
       "  'COMPANY_NAME': 'Adobe Systems Inc',\n",
       "  'SUSTAINABILITY_SCORE': 69,\n",
       "  'INSIDER_HOLDERS_PCT': 0.31,\n",
       "  'INSTITUTION_HOLDERS_PCT': 87.29,\n",
       "  'INSTITUTION_FLOAT_HOLDERS_PCT': 87.56,\n",
       "  'INSTITUTION_HOLDERS_NO': 1786,\n",
       "  'SIC_CODE': '7372',\n",
       "  'SIC_DESC': 'Services-Prepackaged Software',\n",
       "  'SIC_DIVISION': 'Services'},\n",
       " {'TICKER': 'AAP',\n",
       "  'COMPANY_NAME': 'Advance Auto Parts',\n",
       "  'SUSTAINABILITY_SCORE': 49,\n",
       "  'INSIDER_HOLDERS_PCT': 0.29,\n",
       "  'INSTITUTION_HOLDERS_PCT': 103.28,\n",
       "  'INSTITUTION_FLOAT_HOLDERS_PCT': 103.58,\n",
       "  'INSTITUTION_HOLDERS_NO': 632,\n",
       "  'SIC_CODE': '5531',\n",
       "  'SIC_DESC': 'Retail-Auto and Home Supply Stores',\n",
       "  'SIC_DIVISION': 'Retail Trade'},\n",
       " {'TICKER': 'AES',\n",
       "  'COMPANY_NAME': 'AES Corp',\n",
       "  'SUSTAINABILITY_SCORE': 64,\n",
       "  'INSIDER_HOLDERS_PCT': 0.58,\n",
       "  'INSTITUTION_HOLDERS_PCT': 100.46,\n",
       "  'INSTITUTION_FLOAT_HOLDERS_PCT': 101.05,\n",
       "  'INSTITUTION_HOLDERS_NO': 718,\n",
       "  'SIC_CODE': '4991',\n",
       "  'SIC_DESC': 'Cogeneration Services and Small Power Producers',\n",
       "  'SIC_DIVISION': 'Transportation, Communications, Electric, Gas and Sanitary service'},\n",
       " {'TICKER': 'AET',\n",
       "  'COMPANY_NAME': 'Aetna Inc',\n",
       "  'SUSTAINABILITY_SCORE': 60,\n",
       "  'INSIDER_HOLDERS_PCT': 0.38,\n",
       "  'INSTITUTION_HOLDERS_PCT': 86.86,\n",
       "  'INSTITUTION_FLOAT_HOLDERS_PCT': 87.2,\n",
       "  'INSTITUTION_HOLDERS_NO': 1323,\n",
       "  'SIC_CODE': '6324',\n",
       "  'SIC_DESC': 'Hospital and Medical Service Plans',\n",
       "  'SIC_DIVISION': 'Finance, Insurance and Real Estate'},\n",
       " {'TICKER': 'AMG',\n",
       "  'COMPANY_NAME': 'Affiliated Managers Group Inc',\n",
       "  'SUSTAINABILITY_SCORE': 49,\n",
       "  'INSIDER_HOLDERS_PCT': 0.75,\n",
       "  'INSTITUTION_HOLDERS_PCT': 94.68,\n",
       "  'INSTITUTION_FLOAT_HOLDERS_PCT': 95.39,\n",
       "  'INSTITUTION_HOLDERS_NO': 718,\n",
       "  'SIC_CODE': '6282',\n",
       "  'SIC_DESC': 'Investment Advice',\n",
       "  'SIC_DIVISION': 'Finance, Insurance and Real Estate'},\n",
       " {'TICKER': 'AFL',\n",
       "  'COMPANY_NAME': 'AFLAC Inc',\n",
       "  'SUSTAINABILITY_SCORE': 56,\n",
       "  'INSIDER_HOLDERS_PCT': 2.17,\n",
       "  'INSTITUTION_HOLDERS_PCT': 70.47,\n",
       "  'INSTITUTION_FLOAT_HOLDERS_PCT': 72.04,\n",
       "  'INSTITUTION_HOLDERS_NO': 1291,\n",
       "  'SIC_CODE': '6321',\n",
       "  'SIC_DESC': 'Accident and Health Insurance',\n",
       "  'SIC_DIVISION': 'Finance, Insurance and Real Estate'},\n",
       " {'TICKER': 'A',\n",
       "  'COMPANY_NAME': 'Agilent Technologies Inc',\n",
       "  'SUSTAINABILITY_SCORE': 66,\n",
       "  'INSIDER_HOLDERS_PCT': 0.27,\n",
       "  'INSTITUTION_HOLDERS_PCT': 86.88,\n",
       "  'INSTITUTION_FLOAT_HOLDERS_PCT': 87.11,\n",
       "  'INSTITUTION_HOLDERS_NO': 931,\n",
       "  'SIC_CODE': '3826',\n",
       "  'SIC_DESC': 'Laboratory Analytical Instruments',\n",
       "  'SIC_DIVISION': 'Manufacturing'},\n",
       " {'TICKER': 'APD',\n",
       "  'COMPANY_NAME': 'Air Products & Chemicals Inc',\n",
       "  'SUSTAINABILITY_SCORE': 69,\n",
       "  'INSIDER_HOLDERS_PCT': 0.21,\n",
       "  'INSTITUTION_HOLDERS_PCT': 88.05,\n",
       "  'INSTITUTION_FLOAT_HOLDERS_PCT': 88.23,\n",
       "  'INSTITUTION_HOLDERS_NO': 1296,\n",
       "  'SIC_CODE': '2810',\n",
       "  'SIC_DESC': 'Industrial Inorganic Chemicals',\n",
       "  'SIC_DIVISION': 'Manufacturing'},\n",
       " {'TICKER': 'AKAM',\n",
       "  'COMPANY_NAME': 'Akamai Technologies Inc',\n",
       "  'SUSTAINABILITY_SCORE': 59,\n",
       "  'INSIDER_HOLDERS_PCT': 2.92,\n",
       "  'INSTITUTION_HOLDERS_PCT': 88.74,\n",
       "  'INSTITUTION_FLOAT_HOLDERS_PCT': 91.42,\n",
       "  'INSTITUTION_HOLDERS_NO': 791,\n",
       "  'SIC_CODE': '7389',\n",
       "  'SIC_DESC': 'Services-Business Services, Not Elsewhere Classified',\n",
       "  'SIC_DIVISION': 'Services'},\n",
       " {'TICKER': 'ALB',\n",
       "  'COMPANY_NAME': 'Albemarle Corp',\n",
       "  'SUSTAINABILITY_SCORE': 61,\n",
       "  'INSIDER_HOLDERS_PCT': 0.42,\n",
       "  'INSTITUTION_HOLDERS_PCT': 93.9,\n",
       "  'INSTITUTION_FLOAT_HOLDERS_PCT': 94.29,\n",
       "  'INSTITUTION_HOLDERS_NO': 803,\n",
       "  'SIC_CODE': '2821',\n",
       "  'SIC_DESC': 'Plastic Materials, Synthetic Resins and Nonvulcan Elastomers',\n",
       "  'SIC_DIVISION': 'Manufacturing'},\n",
       " {'TICKER': 'ARE',\n",
       "  'COMPANY_NAME': 'Alexandria Real Estate Equities Inc',\n",
       "  'SUSTAINABILITY_SCORE': 57,\n",
       "  'INSIDER_HOLDERS_PCT': 1.42,\n",
       "  'INSTITUTION_HOLDERS_PCT': 103.36,\n",
       "  'INSTITUTION_FLOAT_HOLDERS_PCT': 104.85,\n",
       "  'INSTITUTION_HOLDERS_NO': 656,\n",
       "  'SIC_CODE': '6798',\n",
       "  'SIC_DESC': 'Real Estate Investment Trusts',\n",
       "  'SIC_DIVISION': 'Finance, Insurance and Real Estate'},\n",
       " {'TICKER': 'ALXN',\n",
       "  'COMPANY_NAME': 'Alexion Pharmaceuticals',\n",
       "  'SUSTAINABILITY_SCORE': 45,\n",
       "  'INSIDER_HOLDERS_PCT': 0.47,\n",
       "  'INSTITUTION_HOLDERS_PCT': 96.17,\n",
       "  'INSTITUTION_FLOAT_HOLDERS_PCT': 96.62,\n",
       "  'INSTITUTION_HOLDERS_NO': 859,\n",
       "  'SIC_CODE': '2834',\n",
       "  'SIC_DESC': 'Pharmaceutical Preparations',\n",
       "  'SIC_DIVISION': 'Manufacturing'},\n",
       " {'TICKER': 'ALLE',\n",
       "  'COMPANY_NAME': 'Allegion',\n",
       "  'SUSTAINABILITY_SCORE': 57,\n",
       "  'INSIDER_HOLDERS_PCT': 0.31,\n",
       "  'INSTITUTION_HOLDERS_PCT': 100.39,\n",
       "  'INSTITUTION_FLOAT_HOLDERS_PCT': 100.71,\n",
       "  'INSTITUTION_HOLDERS_NO': 650,\n",
       "  'SIC_CODE': '7381',\n",
       "  'SIC_DESC': 'Services-Detective, Guard and Armored Car Services',\n",
       "  'SIC_DIVISION': 'Services'},\n",
       " {'TICKER': 'AGN',\n",
       "  'COMPANY_NAME': 'Allergan, Plc',\n",
       "  'SUSTAINABILITY_SCORE': 62,\n",
       "  'INSIDER_HOLDERS_PCT': 0.28,\n",
       "  'INSTITUTION_HOLDERS_PCT': 86.95,\n",
       "  'INSTITUTION_FLOAT_HOLDERS_PCT': 87.19,\n",
       "  'INSTITUTION_HOLDERS_NO': 1463,\n",
       "  'SIC_CODE': '2834',\n",
       "  'SIC_DESC': 'Pharmaceutical Preparations',\n",
       "  'SIC_DIVISION': 'Manufacturing'},\n",
       " {'TICKER': 'ADS',\n",
       "  'COMPANY_NAME': 'Alliance Data Systems',\n",
       "  'SUSTAINABILITY_SCORE': 51,\n",
       "  'INSIDER_HOLDERS_PCT': 2.6,\n",
       "  'INSTITUTION_HOLDERS_PCT': 98.38,\n",
       "  'INSTITUTION_FLOAT_HOLDERS_PCT': 101.0,\n",
       "  'INSTITUTION_HOLDERS_NO': 766,\n",
       "  'SIC_CODE': '7389',\n",
       "  'SIC_DESC': 'Services-Business Services, Not Elsewhere Classified',\n",
       "  'SIC_DIVISION': 'Services'},\n",
       " {'TICKER': 'LNT',\n",
       "  'COMPANY_NAME': 'Alliant Energy Corp',\n",
       "  'SUSTAINABILITY_SCORE': 57,\n",
       "  'INSIDER_HOLDERS_PCT': 0.16,\n",
       "  'INSTITUTION_HOLDERS_PCT': 73.67,\n",
       "  'INSTITUTION_FLOAT_HOLDERS_PCT': 73.79,\n",
       "  'INSTITUTION_HOLDERS_NO': 700,\n",
       "  'SIC_CODE': '4931',\n",
       "  'SIC_DESC': 'Electric and Other Services Combined',\n",
       "  'SIC_DIVISION': 'Transportation, Communications, Electric, Gas and Sanitary service'}]"
      ]
     },
     "execution_count": 103,
     "metadata": {},
     "output_type": "execute_result"
    }
   ],
   "source": [
    "companies_info = []\n",
    "companies_clean_info = []\n",
    "SIC_Range = getSICRangeLookup(url_SIC_Range_Wiki)\n",
    "\n",
    "for company in companies[0:25]:\n",
    "    url_key_statistics = \"https://finance.yahoo.com/quote/\" + company[0] + \"/key-statistics\"\n",
    "    url_sustainability = \"https://finance.yahoo.com/quote/\" + company[0] + \"/sustainability\"\n",
    "    url_holders = \"https://finance.yahoo.com/quote/\"        + company[0] + \"/holders\"\n",
    "    sustainability = getSustainabilityScore(url_sustainability)\n",
    "    holders = getHolders(url_holders)\n",
    "    industry = getIndustry(company[0])\n",
    "    \n",
    "#     print(industry)\n",
    "\n",
    "    company_stats ={}\n",
    "    company_stats['TICKER'] = company[0]\n",
    "    company_stats['COMPANY_NAME'] = company[1]\n",
    "    company_stats['SUSTAINABILITY_SCORE'] = sustainability\n",
    "    company_stats['INSIDER_HOLDERS_PCT'] = float(holders[0].replace('%','')) if holders[0] != 'N/A' else None\n",
    "    company_stats['INSTITUTION_HOLDERS_PCT'] = float(holders[1].replace('%','')) if holders[1] != 'N/A' else None\n",
    "    company_stats['INSTITUTION_FLOAT_HOLDERS_PCT'] = float(holders[2].replace('%','')) if holders[2] != 'N/A' else None\n",
    "    company_stats['INSTITUTION_HOLDERS_NO'] =  int(holders[3].replace(',','')) if holders[3] != 'N/A' else None\n",
    "    company_stats['SIC_CODE'] = industry.get('SIC_CODE')\n",
    "    company_stats['SIC_DESC'] = industry.get('SIC_DESC') \n",
    "    company_stats['SIC_DIVISION'] = getIndustryDivision(int(industry.get('SIC_CODE')))  if industry.get('SIC_CODE') is not None else None\n",
    "    \n",
    "    companies_info.append(company_stats)\n",
    "#     print (company_stats)\n",
    "#     print(companies)\n",
    "    if len(companies_info) == 1:\n",
    "        print('Scraping data', end=\"\")\n",
    "    print('.', end=\"\")\n",
    "\n",
    "for company in companies_info:\n",
    "    if company.get('SUSTAINABILITY_SCORE') != 0:\n",
    "        companies_clean_info.append(company)\n",
    "companies_clean_info"
   ]
  },
  {
   "cell_type": "markdown",
   "metadata": {},
   "source": [
    "## Step 3: Visualize\n"
   ]
  },
  {
   "cell_type": "code",
   "execution_count": 104,
   "metadata": {},
   "outputs": [
    {
     "data": {
      "text/plain": [
       "[<matplotlib.lines.Line2D at 0x112134f28>]"
      ]
     },
     "execution_count": 104,
     "metadata": {},
     "output_type": "execute_result"
    },
    {
     "data": {
      "image/png": "[encoded data removed]",
      "text/plain": [
       "<Figure size 640x480 with 1 Axes>"
      ]
     },
     "metadata": {},
     "output_type": "display_data"
    }
   ],
   "source": [
    "# companies_info.get('SUSTAINABILITY_SCORE')\n",
    "sustainability_scores = [company.get('SUSTAINABILITY_SCORE') for company in companies_clean_info]\n",
    "institution_holders = [company.get('INSTITUTION_HOLDERS_NO') for company in companies_clean_info]\n",
    "\n",
    "# len(sustainability_scores)\n",
    "# company[-1]\n",
    "\n",
    "plt.plot(sustainability_scores, institution_holders, 'ro')"
   ]
  },
  {
   "cell_type": "code",
   "execution_count": 105,
   "metadata": {},
   "outputs": [
    {
     "name": "stdout",
     "output_type": "stream",
     "text": [
      "[7.74, 0.72, 0.09, 0.21, 6.0, 0.31, 0.29, 0.58, 0.38, 0.75, 2.17, 0.27, 0.21, 2.92, 0.42, 1.42, 0.47, 0.31, 0.28, 2.6, 0.16]\n"
     ]
    },
    {
     "data": {
      "text/plain": [
       "[<matplotlib.lines.Line2D at 0x11156dc88>]"
      ]
     },
     "execution_count": 105,
     "metadata": {},
     "output_type": "execute_result"
    },
    {
     "data": {
      "image/png": "[encoded data removed]",
      "text/plain": [
       "<Figure size 640x480 with 1 Axes>"
      ]
     },
     "metadata": {},
     "output_type": "display_data"
    }
   ],
   "source": [
    "sustainability_scores = [company.get('SUSTAINABILITY_SCORE') for company in companies_clean_info]\n",
    "insider_holders = [company.get('INSIDER_HOLDERS_PCT') for company in companies_clean_info]\n",
    "\n",
    "print(insider_holders)\n",
    "# len(sustainability_scores)\n",
    "# company[-1]\n",
    "\n",
    "plt.plot(sustainability_scores, insider_holders, 'ro')"
   ]
  },
  {
   "cell_type": "code",
   "execution_count": 92,
   "metadata": {},
   "outputs": [],
   "source": [
    "# company_names = [company.get('COMPANY_NAME') for company in companies_info]\n",
    "# sustainability_scores = [company.get('SUSTAINABILITY_SCORE') for company in companies_info]\n",
    "# sic_division = [company.get('SIC_DIVISION') for company in companies_info]\n",
    "\n",
    "# # print(company_names)\n",
    "# print(sustainability_scores)\n",
    "# print(sic_division)\n",
    "# # len(sustainability_scores)\n",
    "# # company[-1]\n",
    "\n",
    "# data = [go.Bar(\n",
    "#             x=sic_division,\n",
    "#             y=sustainability_scores\n",
    "#     )]\n",
    "# py.iplot(data, filename='line')"
   ]
  },
  {
   "cell_type": "code",
   "execution_count": 107,
   "metadata": {},
   "outputs": [
    {
     "data": {
      "image/png": "[encoded data removed]",
      "text/plain": [
       "<Figure size 640x480 with 1 Axes>"
      ]
     },
     "metadata": {},
     "output_type": "display_data"
    }
   ],
   "source": [
    "import matplotlib.pyplot as plt; plt.rcdefaults()\n",
    "import numpy as np\n",
    "import matplotlib.pyplot as plt\n",
    " \n",
    "objects = [company.get('SIC_DIVISION') for company in companies_clean_info]\n",
    "# y_pos = np.arange(len(objects))\n",
    "performance = [company.get('SUSTAINABILITY_SCORE') for company in companies_clean_info]\n",
    " \n",
    "plt.bar(y_pos, performance, align='center', alpha=0.5)\n",
    "plt.xticks(y_pos, objects)\n",
    "plt.xticks(rotation=90)\n",
    "plt.ylabel('Sustainability Score')\n",
    "plt.title('Sustainability Score by Divisions')\n",
    " \n",
    "plt.show()"
   ]
  },
  {
   "cell_type": "code",
   "execution_count": 114,
   "metadata": {},
   "outputs": [
    {
     "data": {
      "text/plain": [
       "SIC_DIVISION\n",
       "Finance, Insurance and Real Estate                                    55.500000\n",
       "Manufacturing                                                         62.375000\n",
       "Retail Trade                                                          49.000000\n",
       "Services                                                              59.666667\n",
       "Transportation, Communications, Electric, Gas and Sanitary service    60.500000\n",
       "Name: SUSTAINABILITY_SCORE, dtype: float64"
      ]
     },
     "execution_count": 114,
     "metadata": {},
     "output_type": "execute_result"
    }
   ],
   "source": [
    "df_company_clean_info = pd.DataFrame(companies_clean_info)\n",
    "df_company_clean_info\n",
    "df_company_clean_info['SUSTAINABILITY_SCORE'].mean()\n",
    "df_company_clean_info.groupby('SIC_DIVISION')['SUSTAINABILITY_SCORE'].mean()"
   ]
  },
  {
   "cell_type": "code",
   "execution_count": null,
   "metadata": {},
   "outputs": [],
   "source": []
  }
 ],
 "metadata": {
  "kernelspec": {
   "display_name": "Python 3",
   "language": "python",
   "name": "python3"
  },
  "language_info": {
   "codemirror_mode": {
    "name": "ipython",
    "version": 3
   },
   "file_extension": ".py",
   "mimetype": "text/x-python",
   "name": "python",
   "nbconvert_exporter": "python",
   "pygments_lexer": "ipython3",
   "version": "3.6.5"
  }
 },
 "nbformat": 4,
 "nbformat_minor": 2
}
