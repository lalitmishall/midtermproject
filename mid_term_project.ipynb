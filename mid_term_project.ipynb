{
 "cells": [
  {
   "cell_type": "markdown",
   "metadata": {},
   "source": [
    "## Step 1: Pull Data from yahoo finance"
   ]
  },
  {
   "cell_type": "code",
   "execution_count": 220,
   "metadata": {},
   "outputs": [
    {
     "data": {
      "text/html": [
       "<script>requirejs.config({paths: { 'plotly': ['https://cdn.plot.ly/plotly-latest.min']},});if(!window.Plotly) {{require(['plotly'],function(plotly) {window.Plotly=plotly;});}}</script>"
      ],
      "text/vnd.plotly.v1+html": [
       "<script>requirejs.config({paths: { 'plotly': ['https://cdn.plot.ly/plotly-latest.min']},});if(!window.Plotly) {{require(['plotly'],function(plotly) {window.Plotly=plotly;});}}</script>"
      ]
     },
     "metadata": {},
     "output_type": "display_data"
    }
   ],
   "source": [
    "import requests\n",
    "import pandas as pd\n",
    "from bs4 import BeautifulSoup\n",
    "\n",
    "import plotly.offline as p\n",
    "import plotly.graph_objs as go\n",
    "\n",
    "import matplotlib.pyplot as plt\n",
    "\n",
    "p.init_notebook_mode(connected=True)\n",
    "from IPython.display import Image"
   ]
  },
  {
   "cell_type": "code",
   "execution_count": 134,
   "metadata": {},
   "outputs": [],
   "source": [
    "url_key_statistics = \"https://finance.yahoo.com/quote/TSLA/key-statistics\"\n",
    "url_holders = \"https://finance.yahoo.com/quote/TSLA/holders\"\n",
    "url_sustainability = \"https://finance.yahoo.com/quote/TSLA/sustainability\"\n",
    "url_SnP_Wiki = \"https://en.wikipedia.org/wiki/List_of_S%26P_500_companies\""
   ]
  },
  {
   "cell_type": "code",
   "execution_count": 66,
   "metadata": {},
   "outputs": [],
   "source": [
    "response = requests.get(url_sustainability)"
   ]
  },
  {
   "cell_type": "code",
   "execution_count": 67,
   "metadata": {},
   "outputs": [],
   "source": [
    "# response.text"
   ]
  },
  {
   "cell_type": "code",
   "execution_count": 68,
   "metadata": {},
   "outputs": [],
   "source": [
    "beautsoup_object = BeautifulSoup(response.text, 'html.parser')\n",
    "# Tells BeautifulSoup that we'd like to use the 'html' parser"
   ]
  },
  {
   "cell_type": "code",
   "execution_count": 108,
   "metadata": {},
   "outputs": [],
   "source": [
    "# print(beautsoup_object.prettify())"
   ]
  },
  {
   "cell_type": "code",
   "execution_count": 70,
   "metadata": {},
   "outputs": [],
   "source": [
    "# beautsoup_object.select(\".Fz(36px)\") -- alternate way but below is more accurate"
   ]
  },
  {
   "cell_type": "code",
   "execution_count": 71,
   "metadata": {},
   "outputs": [
    {
     "data": {
      "text/plain": [
       "'61'"
      ]
     },
     "execution_count": 71,
     "metadata": {},
     "output_type": "execute_result"
    }
   ],
   "source": [
    "beautsoup_object.find_all('div', class_ = \"Fz(36px)\", attrs={\"data-reactid\": \"20\"})[0].text"
   ]
  },
  {
   "cell_type": "code",
   "execution_count": null,
   "metadata": {},
   "outputs": [],
   "source": []
  },
  {
   "cell_type": "code",
   "execution_count": 124,
   "metadata": {},
   "outputs": [],
   "source": [
    "def getBeatifulResponse(url):\n",
    "    \"\"\"Function that gets the response using the URL\"\"\"\n",
    "    response = requests.get(url)\n",
    "    beautsoup_object = BeautifulSoup(response.text, 'html.parser')\n",
    "#     print(beautsoup_object.prettify())\n",
    "    return beautsoup_object"
   ]
  },
  {
   "cell_type": "code",
   "execution_count": 172,
   "metadata": {},
   "outputs": [],
   "source": [
    "def getSustainabilityScore(url):\n",
    "    \"\"\"Function that calls getBeatifulResponse and then extracts \n",
    "    Sustainability score from the response\"\"\"\n",
    "    score = None\n",
    "    try:\n",
    "        bsoupobj = getBeatifulResponse(url)\n",
    "        score = int(bsoupobj.find_all('div', class_ = \"Fz(36px)\", attrs={\"data-reactid\": \"20\"})[0].text)\n",
    "    finally:\n",
    "        return score\n",
    "    "
   ]
  },
  {
   "cell_type": "code",
   "execution_count": 173,
   "metadata": {},
   "outputs": [],
   "source": [
    "getSustainabilityScore(url_sustainability)"
   ]
  },
  {
   "cell_type": "code",
   "execution_count": 177,
   "metadata": {},
   "outputs": [],
   "source": [
    "def getHolders(url):\n",
    "    \"\"\"Function that calls getBeatifulResponse and then extracts \n",
    "    list of holders from the response\"\"\"\n",
    "    bsoupobj = getBeatifulResponse(url)\n",
    "    table = bsoupobj.find_all('td', {'class': 'Py(10px) Va(m) Fw(b) W(15%)'})\n",
    "    holders = []\n",
    "    try:\n",
    "        for row in table:\n",
    "            holder = row.text\n",
    "            holders.append(holder)\n",
    "    finally:\n",
    "        return holders"
   ]
  },
  {
   "cell_type": "code",
   "execution_count": 157,
   "metadata": {},
   "outputs": [
    {
     "data": {
      "text/plain": [
       "['25.19%', '59.53%', '79.57%', '1,005']"
      ]
     },
     "execution_count": 157,
     "metadata": {},
     "output_type": "execute_result"
    }
   ],
   "source": [
    "getHolders(url_holders)"
   ]
  },
  {
   "cell_type": "code",
   "execution_count": 153,
   "metadata": {},
   "outputs": [
    {
     "name": "stdout",
     "output_type": "stream",
     "text": [
      "<td class=\"Py(10px) Va(m) Fw(b) W(15%)\" data-reactid=\"26\">25.19%</td>\n",
      "<td class=\"Py(10px) Va(m) Fw(b) W(15%)\" data-reactid=\"30\">59.53%</td>\n",
      "<td class=\"Py(10px) Va(m) Fw(b) W(15%)\" data-reactid=\"34\">79.57%</td>\n",
      "<td class=\"Py(10px) Va(m) Fw(b) W(15%)\" data-reactid=\"38\">1,005</td>\n"
     ]
    },
    {
     "data": {
      "text/plain": [
       "['25.19%', '59.53%', '79.57%', '1,005']"
      ]
     },
     "execution_count": 153,
     "metadata": {},
     "output_type": "execute_result"
    }
   ],
   "source": [
    "bsoupobj = getBeatifulResponse(\"https://finance.yahoo.com/quote/TSLA/holders\")\n",
    "# print(bsoupobj.prettify())\n",
    "# bsoupobj.find_all(class_ = \"Py(10px)\")\n",
    "table = bsoupobj.find_all('td', {'class': 'Py(10px) Va(m) Fw(b) W(15%)'})\n",
    "holders = []\n",
    "for row in table:\n",
    "    print(row)\n",
    "    holder = row.text\n",
    "    holders.append(holder)\n",
    "holders"
   ]
  },
  {
   "cell_type": "code",
   "execution_count": 192,
   "metadata": {},
   "outputs": [],
   "source": [
    "def getSnPCompanies(url):\n",
    "    \"\"\"Function that scrapes the list of S&P 500 companies from Wikipedia\"\"\"\n",
    "    bsoupobj = getBeatifulResponse(url)\n",
    "    table = bsoupobj.find('table', {'class': 'wikitable sortable'})\n",
    "    companies = []\n",
    "    for row in table.findAll('tr')[1:]:\n",
    "        ticker = row.findAll('td')[0].text\n",
    "        company_name = row.findAll('td')[1].text\n",
    "        companies.append([ticker,company_name])\n",
    "    return companies"
   ]
  },
  {
   "cell_type": "code",
   "execution_count": 198,
   "metadata": {},
   "outputs": [],
   "source": [
    "# companies = getSnPCompanies(url_SnP_Wiki)"
   ]
  },
  {
   "cell_type": "code",
   "execution_count": 215,
   "metadata": {},
   "outputs": [],
   "source": [
    "# companies"
   ]
  },
  {
   "cell_type": "code",
   "execution_count": 189,
   "metadata": {},
   "outputs": [],
   "source": [
    "bsoupobj = getBeatifulResponse(\"https://en.wikipedia.org/wiki/List_of_S%26P_500_companies\")\n",
    "# print(bsoupobj.prettify())\n",
    "table = bsoupobj.find('table', {'class': 'wikitable sortable'})\n",
    "tickers = []\n",
    "company_names = []\n",
    "for row in table.findAll('tr')[1:]:\n",
    "    ticker = row.findAll('td')[0].text\n",
    "    company_name = row.findAll('td')[1].text\n",
    "#     print(ticker)\n",
    "    tickers.append(ticker)\n",
    "    company_names.append(company_name)"
   ]
  },
  {
   "cell_type": "code",
   "execution_count": 216,
   "metadata": {},
   "outputs": [],
   "source": [
    "# company_names"
   ]
  },
  {
   "cell_type": "code",
   "execution_count": 205,
   "metadata": {},
   "outputs": [],
   "source": [
    "# companies_info = []\n",
    "# for company in companies[:10]:\n",
    "#     url_key_statistics = \"https://finance.yahoo.com/quote/\" + company[0] + \"/key-statistics\"\n",
    "#     url_sustainability = \"https://finance.yahoo.com/quote/\" + company[0] + \"/sustainability\"\n",
    "#     url_holders = \"https://finance.yahoo.com/quote/\"        + company[0] + \"/holders\"\n",
    "#     sustainability = getSustainabilityScore(url_sustainability)\n",
    "#     holders = getHolders(url_holders)\n",
    "\n",
    "#     company_stats ={}\n",
    "#     company_stats['COMPANY'] = company[0]\n",
    "#     company_stats['SUSTAINABILITY_SCORE'] = sustainability\n",
    "#     company_stats['HOLDERS'] = holders\n",
    "    \n",
    "#     companies_info.append(company_stats)\n",
    "# #     print (company_stats)\n",
    "# #     print(companies)\n",
    "#     if len(companies_info) == 1:\n",
    "#         print('Scraping data', end=\"\")\n",
    "#     print('.', end=\"\")\n",
    "# companies_info"
   ]
  },
  {
   "cell_type": "code",
   "execution_count": null,
   "metadata": {},
   "outputs": [],
   "source": []
  },
  {
   "cell_type": "code",
   "execution_count": null,
   "metadata": {},
   "outputs": [],
   "source": []
  },
  {
   "cell_type": "code",
   "execution_count": null,
   "metadata": {},
   "outputs": [],
   "source": []
  },
  {
   "cell_type": "code",
   "execution_count": null,
   "metadata": {},
   "outputs": [],
   "source": []
  },
  {
   "cell_type": "markdown",
   "metadata": {},
   "source": [
    "## Step 2: Process data into data structures"
   ]
  },
  {
   "cell_type": "code",
   "execution_count": 217,
   "metadata": {},
   "outputs": [],
   "source": [
    "companies = getSnPCompanies(url_SnP_Wiki)"
   ]
  },
  {
   "cell_type": "code",
   "execution_count": 232,
   "metadata": {},
   "outputs": [
    {
     "name": "stdout",
     "output_type": "stream",
     "text": [
      "Scraping data......................................................................."
     ]
    },
    {
     "ename": "IndexError",
     "evalue": "list index out of range",
     "output_type": "error",
     "traceback": [
      "\u001b[0;31m---------------------------------------------------------------------------\u001b[0m",
      "\u001b[0;31mIndexError\u001b[0m                                Traceback (most recent call last)",
      "\u001b[0;32m<ipython-input-232-f36af9414b67>\u001b[0m in \u001b[0;36m<module>\u001b[0;34m()\u001b[0m\n\u001b[1;32m     11\u001b[0m     \u001b[0mcompany_stats\u001b[0m\u001b[0;34m[\u001b[0m\u001b[0;34m'COMPANY_NAME'\u001b[0m\u001b[0;34m]\u001b[0m \u001b[0;34m=\u001b[0m \u001b[0mcompany\u001b[0m\u001b[0;34m[\u001b[0m\u001b[0;36m1\u001b[0m\u001b[0;34m]\u001b[0m\u001b[0;34m\u001b[0m\u001b[0m\n\u001b[1;32m     12\u001b[0m     \u001b[0mcompany_stats\u001b[0m\u001b[0;34m[\u001b[0m\u001b[0;34m'SUSTAINABILITY_SCORE'\u001b[0m\u001b[0;34m]\u001b[0m \u001b[0;34m=\u001b[0m \u001b[0msustainability\u001b[0m\u001b[0;34m\u001b[0m\u001b[0m\n\u001b[0;32m---> 13\u001b[0;31m     \u001b[0mcompany_stats\u001b[0m\u001b[0;34m[\u001b[0m\u001b[0;34m'INSIDER_HOLDERS'\u001b[0m\u001b[0;34m]\u001b[0m \u001b[0;34m=\u001b[0m \u001b[0mholders\u001b[0m\u001b[0;34m[\u001b[0m\u001b[0;36m0\u001b[0m\u001b[0;34m]\u001b[0m\u001b[0;34m\u001b[0m\u001b[0m\n\u001b[0m\u001b[1;32m     14\u001b[0m     \u001b[0mcompany_stats\u001b[0m\u001b[0;34m[\u001b[0m\u001b[0;34m'INSTITUTION_HOLDERS'\u001b[0m\u001b[0;34m]\u001b[0m \u001b[0;34m=\u001b[0m \u001b[0mholders\u001b[0m\u001b[0;34m[\u001b[0m\u001b[0;36m1\u001b[0m\u001b[0;34m]\u001b[0m\u001b[0;34m\u001b[0m\u001b[0m\n\u001b[1;32m     15\u001b[0m     \u001b[0mcompany_stats\u001b[0m\u001b[0;34m[\u001b[0m\u001b[0;34m'INSTITUTION_FLOAT_HOLDERS'\u001b[0m\u001b[0;34m]\u001b[0m \u001b[0;34m=\u001b[0m \u001b[0mholders\u001b[0m\u001b[0;34m[\u001b[0m\u001b[0;36m2\u001b[0m\u001b[0;34m]\u001b[0m\u001b[0;34m\u001b[0m\u001b[0m\n",
      "\u001b[0;31mIndexError\u001b[0m: list index out of range"
     ]
    }
   ],
   "source": [
    "companies_info = []\n",
    "for company in companies[:100]:\n",
    "    url_key_statistics = \"https://finance.yahoo.com/quote/\" + company[0] + \"/key-statistics\"\n",
    "    url_sustainability = \"https://finance.yahoo.com/quote/\" + company[0] + \"/sustainability\"\n",
    "    url_holders = \"https://finance.yahoo.com/quote/\"        + company[0] + \"/holders\"\n",
    "    sustainability = getSustainabilityScore(url_sustainability)\n",
    "    holders = getHolders(url_holders)\n",
    "\n",
    "    company_stats ={}\n",
    "    company_stats['TICKER'] = company[0]\n",
    "    company_stats['COMPANY_NAME'] = company[1]\n",
    "    company_stats['SUSTAINABILITY_SCORE'] = sustainability\n",
    "    company_stats['INSIDER_HOLDERS'] = holders[0]\n",
    "    company_stats['INSTITUTION_HOLDERS'] = holders[1]\n",
    "    company_stats['INSTITUTION_FLOAT_HOLDERS'] = holders[2]\n",
    "    company_stats['INSTITUTION_HOLDERS_NO'] = int(holders[3].replace(',',''))\n",
    "    \n",
    "    companies_info.append(company_stats)\n",
    "#     print (company_stats)\n",
    "#     print(companies)\n",
    "    if len(companies_info) == 1:\n",
    "        print('Scraping data', end=\"\")\n",
    "    print('.', end=\"\")\n",
    "companies_info"
   ]
  },
  {
   "cell_type": "markdown",
   "metadata": {},
   "source": [
    "## Step 3: Visualize\n"
   ]
  },
  {
   "cell_type": "code",
   "execution_count": 236,
   "metadata": {},
   "outputs": [
    {
     "data": {
      "text/plain": [
       "'Berkshire Hathaway'"
      ]
     },
     "execution_count": 236,
     "metadata": {},
     "output_type": "execute_result"
    }
   ],
   "source": [
    "# companies_info.get('SUSTAINABILITY_SCORE')\n",
    "sustainability_scores = [company.get('SUSTAINABILITY_SCORE') for company in companies_info]\n",
    "institution_holders = [company.get('INSTITUTION_HOLDERS_NO') for company in companies_info]\n",
    "\n",
    "len(sustainability_scores)\n",
    "company[-1]"
   ]
  },
  {
   "cell_type": "code",
   "execution_count": 234,
   "metadata": {},
   "outputs": [
    {
     "data": {
      "text/plain": [
       "[<matplotlib.lines.Line2D at 0x10ebbfe10>]"
      ]
     },
     "execution_count": 234,
     "metadata": {},
     "output_type": "execute_result"
    },
    {
     "data": {
      "image/png": "[encoded data removed]",
      "text/plain": [
       "<Figure size 432x288 with 1 Axes>"
      ]
     },
     "metadata": {},
     "output_type": "display_data"
    }
   ],
   "source": [
    "plt.plot(sustainability_scores, institution_holders, 'ro')"
   ]
  },
  {
   "cell_type": "code",
   "execution_count": null,
   "metadata": {},
   "outputs": [],
   "source": []
  }
 ],
 "metadata": {
  "kernelspec": {
   "display_name": "Python 3",
   "language": "python",
   "name": "python3"
  },
  "language_info": {
   "codemirror_mode": {
    "name": "ipython",
    "version": 3
   },
   "file_extension": ".py",
   "mimetype": "text/x-python",
   "name": "python",
   "nbconvert_exporter": "python",
   "pygments_lexer": "ipython3",
   "version": "3.6.5"
  }
 },
 "nbformat": 4,
 "nbformat_minor": 2
}
